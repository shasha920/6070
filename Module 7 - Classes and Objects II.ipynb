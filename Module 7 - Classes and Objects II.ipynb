{
 "cells": [
  {
   "cell_type": "markdown",
   "metadata": {},
   "source": [
    "# GBA 6070 - Programming Foundation for Business Analytics\n",
    "# Dr. Mohammad Salehan\n",
    "# Module 7 - Classes and Objects II\n",
    "In this notebook we discuss inheritance. Inheritance is the ability to define a new class that is a modified version of an existing class. "
   ]
  },
  {
   "cell_type": "markdown",
   "metadata": {},
   "source": [
    "## The Rectangle class\n",
    "You already worked on the Rectangle class in your assignment. A Rectangle is characterized by its length and width. Width and length can be used to calculate the area and permieter of a rectangle. We added these 2 as class methods."
   ]
  },
  {
   "cell_type": "code",
   "execution_count": 2,
   "metadata": {},
   "outputs": [],
   "source": [
    "class Rectangle:\n",
    "    width = 0\n",
    "    length = 0\n",
    "    \n",
    "    def __init__(self, w, l):\n",
    "        self.width = w\n",
    "        self.length = l\n",
    "    \n",
    "    def area(self):\n",
    "        return self.width * self.length\n",
    "    \n",
    "    def perimeter(self):\n",
    "        return 2 *(self.width + self.length)"
   ]
  },
  {
   "cell_type": "markdown",
   "metadata": {},
   "source": [
    "Below we create an instance of circle and call its area and perimeter methods."
   ]
  },
  {
   "cell_type": "code",
   "execution_count": 3,
   "metadata": {},
   "outputs": [
    {
     "name": "stdout",
     "output_type": "stream",
     "text": [
      "12\n",
      "14\n"
     ]
    }
   ],
   "source": [
    "r = Rectangle(3,4)\n",
    "print(r.area())\n",
    "print(r.perimeter())"
   ]
  },
  {
   "cell_type": "markdown",
   "metadata": {},
   "source": [
    "# The Square class\n",
    "You previously developed a square class too. A square is a special form of Rectangle where width=length. Hence, it can be seen as an extension of Rectangle. In Object-Oriented Programming, the inheritance feature can be use to develop a modified version of an existing class. Below, we define Square to inherit from Rectangle. The constructor of Square accepts one parameter which represents the length of each side. It passes side length as both width and length to the constructor of parent class."
   ]
  },
  {
   "cell_type": "code",
   "execution_count": 4,
   "metadata": {},
   "outputs": [],
   "source": [
    "class Square(Rectangle):\n",
    "    \n",
    "    def __init__(self, side):\n",
    "        Rectangle.__init__(self, side, side)"
   ]
  },
  {
   "cell_type": "markdown",
   "metadata": {},
   "source": [
    "Below we create an instance of Square."
   ]
  },
  {
   "cell_type": "code",
   "execution_count": 5,
   "metadata": {},
   "outputs": [],
   "source": [
    "s = Square(5)"
   ]
  },
  {
   "cell_type": "markdown",
   "metadata": {},
   "source": [
    "Square inherits from Rectangle which means that it inherits all attributes and methods of Rectangle."
   ]
  },
  {
   "cell_type": "code",
   "execution_count": 6,
   "metadata": {},
   "outputs": [
    {
     "name": "stdout",
     "output_type": "stream",
     "text": [
      "25\n",
      "20\n"
     ]
    }
   ],
   "source": [
    "print(s.area())\n",
    "print(s.perimeter())"
   ]
  },
  {
   "cell_type": "markdown",
   "metadata": {},
   "source": [
    "Using built-in isinstance function, we can check if an object is an instance of a class. Below we check if s is an instance of Square class."
   ]
  },
  {
   "cell_type": "code",
   "execution_count": 7,
   "metadata": {},
   "outputs": [
    {
     "data": {
      "text/plain": [
       "True"
      ]
     },
     "execution_count": 7,
     "metadata": {},
     "output_type": "execute_result"
    }
   ],
   "source": [
    "isinstance(s, Square)"
   ]
  },
  {
   "cell_type": "markdown",
   "metadata": {},
   "source": [
    "Since Square inherits from Rectangle, s is also an instance of Rectangle:"
   ]
  },
  {
   "cell_type": "code",
   "execution_count": 8,
   "metadata": {},
   "outputs": [
    {
     "data": {
      "text/plain": [
       "True"
      ]
     },
     "execution_count": 8,
     "metadata": {},
     "output_type": "execute_result"
    }
   ],
   "source": [
    "isinstance(s, Rectangle)"
   ]
  },
  {
   "cell_type": "markdown",
   "metadata": {},
   "source": [
    "## Cuboid class\n",
    "A Cuboid is a 3D rectangle. In addition to width and length, it has a third attribute named height. It can be created by extending Rectangle class."
   ]
  },
  {
   "attachments": {
    "Cuboid-2.png": {
     "image/png": "[encoded data removed]"
    }
   },
   "cell_type": "markdown",
   "metadata": {},
   "source": [
    "![Cuboid-2.png](attachment:Cuboid-2.png)"
   ]
  },
  {
   "cell_type": "markdown",
   "metadata": {},
   "source": [
    "Since Cuboid is 3D, it should have an additional method named volume."
   ]
  },
  {
   "cell_type": "code",
   "execution_count": 9,
   "metadata": {},
   "outputs": [],
   "source": [
    "class Cuboid(Rectangle):\n",
    "    \n",
    "    height = 0\n",
    "    \n",
    "    def __init__(self, w, l, h):\n",
    "        self.height = h\n",
    "        Rectangle.__init__(self, w, l)\n",
    "        \n",
    "    def volume(self):\n",
    "        return self.height * self.width * self.length"
   ]
  },
  {
   "cell_type": "markdown",
   "metadata": {},
   "source": [
    "Below we test the Cuboid class by creating an instance of it and then calculating its volume."
   ]
  },
  {
   "cell_type": "code",
   "execution_count": 10,
   "metadata": {},
   "outputs": [
    {
     "data": {
      "text/plain": [
       "60"
      ]
     },
     "execution_count": 10,
     "metadata": {},
     "output_type": "execute_result"
    }
   ],
   "source": [
    "c = Cuboid(5,4,3)\n",
    "c.volume()"
   ]
  },
  {
   "attachments": {
    "Cube.jpg": {
     "image/jpeg": "[encoded data removed]"
    }
   },
   "cell_type": "markdown",
   "metadata": {},
   "source": [
    "## Class exercise\n",
    "Extend Cubiod class to create a Cube class. A cube is a special type of Cubiod where width, length, and height are equal.\n",
    "![Cube.jpg](attachment:Cube.jpg)"
   ]
  },
  {
   "cell_type": "code",
   "execution_count": 23,
   "metadata": {},
   "outputs": [
    {
     "data": {
      "text/plain": [
       "27"
      ]
     },
     "execution_count": 23,
     "metadata": {},
     "output_type": "execute_result"
    }
   ],
   "source": [
    "class Cube(Cuboid):\n",
    "    def __init__(self,side):\n",
    "        Cuboid.__init__(self,side,side,side)\n",
    "\n",
    "                                        \n",
    "cube=Cube(3)\n",
    "cube.volume()\n"
   ]
  },
  {
   "cell_type": "markdown",
   "metadata": {},
   "source": [
    "## Method overriding\n",
    "Let's examine the surface area of Cuboid."
   ]
  },
  {
   "cell_type": "code",
   "execution_count": 24,
   "metadata": {},
   "outputs": [
    {
     "data": {
      "text/plain": [
       "94"
      ]
     },
     "execution_count": 24,
     "metadata": {},
     "output_type": "execute_result"
    }
   ],
   "source": [
    "c.area()"
   ]
  },
  {
   "cell_type": "markdown",
   "metadata": {},
   "source": [
    "The answer is incorrect since the formula for area of Cuboid is differnet than that of Rectangle. Thus, we have to override the area method we inherited from Rectangle. This is called method overriding."
   ]
  },
  {
   "cell_type": "code",
   "execution_count": 25,
   "metadata": {},
   "outputs": [],
   "source": [
    "class Cuboid(Rectangle):\n",
    "    \n",
    "    height = 0\n",
    "    \n",
    "    def __init__(self, w, l, h):\n",
    "        self.height = h\n",
    "        Rectangle.__init__(self, w, l)\n",
    "        \n",
    "    def volume(self):\n",
    "        return self.height * self.width * self.length\n",
    "    \n",
    "    def area(self):\n",
    "        return 2 * (self.width * self.length + \n",
    "                    self.height * self.width + \n",
    "                    self.height * self.length)"
   ]
  },
  {
   "cell_type": "markdown",
   "metadata": {},
   "source": [
    "Let's try again."
   ]
  },
  {
   "cell_type": "code",
   "execution_count": 26,
   "metadata": {},
   "outputs": [
    {
     "data": {
      "text/plain": [
       "94"
      ]
     },
     "execution_count": 26,
     "metadata": {},
     "output_type": "execute_result"
    }
   ],
   "source": [
    "c = Cuboid(5,4,3)\n",
    "c.area()"
   ]
  },
  {
   "cell_type": "markdown",
   "metadata": {},
   "source": [
    "Part of the surface area calculation (self.height * self.width) is the same as the one in the parent class. It is always great to be able to reuse code instead of rewriting everything. Below, we use the area method from the parent class to calculate that portion."
   ]
  },
  {
   "cell_type": "code",
   "execution_count": 27,
   "metadata": {},
   "outputs": [],
   "source": [
    "class Cuboid(Rectangle):\n",
    "    \n",
    "    height = 0\n",
    "    \n",
    "    def __init__(self, w, l, h):\n",
    "        self.height = h\n",
    "        Rectangle.__init__(self, w, l)\n",
    "        \n",
    "    def volume(self):\n",
    "        return self.height * self.width * self.length\n",
    "    \n",
    "    def area(self):\n",
    "        return 2 * (super().area() + \n",
    "                    self.height * self.width + \n",
    "                    self.height * self.length)"
   ]
  },
  {
   "cell_type": "code",
   "execution_count": 28,
   "metadata": {},
   "outputs": [
    {
     "data": {
      "text/plain": [
       "94"
      ]
     },
     "execution_count": 28,
     "metadata": {},
     "output_type": "execute_result"
    }
   ],
   "source": [
    "c = Cuboid(5,4,3)\n",
    "c.area()"
   ]
  },
  {
   "cell_type": "markdown",
   "metadata": {},
   "source": [
    "### Printing objects\n",
    "Let's print the Cuboid object and see what happens."
   ]
  },
  {
   "cell_type": "code",
   "execution_count": 29,
   "metadata": {},
   "outputs": [
    {
     "name": "stdout",
     "output_type": "stream",
     "text": [
      "<__main__.Cuboid object at 0x7f9ad0a485e0>\n"
     ]
    }
   ],
   "source": [
    "print(c)"
   ]
  },
  {
   "cell_type": "markdown",
   "metadata": {},
   "source": [
    "As you see, we get a combination of package_name.class_name at memory_address which is not very useful. by overriding the __str__ method, you can control what is printed when the object is passed to print() function."
   ]
  },
  {
   "cell_type": "code",
   "execution_count": 30,
   "metadata": {},
   "outputs": [],
   "source": [
    "class Cuboid(Rectangle):\n",
    "    \n",
    "    height = 0\n",
    "    \n",
    "    def __init__(self, w, l, h):\n",
    "        self.height = h\n",
    "        Rectangle.__init__(self, w, l)\n",
    "        \n",
    "    def volume(self):\n",
    "        return self.height * self.width * self.length\n",
    "    \n",
    "    def area(self):\n",
    "        return 2 * (super().area() + \n",
    "                    self.height * self.width + \n",
    "                    self.height * self.length)\n",
    "    \n",
    "    def __str__(self):\n",
    "        return 'Cuboid with width={}, length={}, and height={}'.format(self.height, self.width, self.length)"
   ]
  },
  {
   "cell_type": "markdown",
   "metadata": {},
   "source": [
    "Let's try again."
   ]
  },
  {
   "cell_type": "code",
   "execution_count": 31,
   "metadata": {},
   "outputs": [
    {
     "name": "stdout",
     "output_type": "stream",
     "text": [
      "Cuboid with width=3, length=5, and height=4\n"
     ]
    }
   ],
   "source": [
    "c = Cuboid(5,4,3)\n",
    "print(c)"
   ]
  },
  {
   "cell_type": "markdown",
   "metadata": {},
   "source": [
    "## Class exercise\n",
    "In Cube class, override \\_\\_str\\_\\_ method to show correct representation of the cube."
   ]
  },
  {
   "cell_type": "code",
   "execution_count": 33,
   "metadata": {},
   "outputs": [
    {
     "name": "stdout",
     "output_type": "stream",
     "text": [
      "Cube with side=3\n"
     ]
    }
   ],
   "source": [
    "class Cube(Cuboid):\n",
    "    def __init__(self,side):\n",
    "        Cuboid.__init__(self,side,side,side)\n",
    "        \n",
    "    def __str__(self):\n",
    "        return 'Cube with side={}'.format(self.width)\n",
    "                                        \n",
    "cube=Cube(3)\n",
    "print(cube)"
   ]
  },
  {
   "cell_type": "markdown",
   "metadata": {},
   "source": [
    "## Operator overloading\n",
    "Python allows you to specify the behavior of operators on programmer-defined types. For example, here we overload the < operator to compare volume of Cuboids."
   ]
  },
  {
   "cell_type": "code",
   "execution_count": 34,
   "metadata": {},
   "outputs": [],
   "source": [
    "class Cuboid(Rectangle):\n",
    "    \n",
    "    height = 0\n",
    "    \n",
    "    def __init__(self, w, l, h):\n",
    "        self.height = h\n",
    "        Rectangle.__init__(self, w, l)\n",
    "        \n",
    "    def volume(self):\n",
    "        return self.height * self.width * self.length\n",
    "    \n",
    "    def area(self):\n",
    "        return 2 * (super().area() + \n",
    "                    self.height * self.width + \n",
    "                    self.height * self.length)\n",
    "    \n",
    "    def __str__(self):\n",
    "        return 'Cuboid with width={}, length={}, and height={}'.format(self.height, self.width, self.length)\n",
    "    \n",
    "    def __lt__(self, c2):\n",
    "        return self.volume() < c2.volume()"
   ]
  },
  {
   "cell_type": "markdown",
   "metadata": {},
   "source": [
    "Let's test it using 2 objects:"
   ]
  },
  {
   "cell_type": "code",
   "execution_count": 35,
   "metadata": {},
   "outputs": [
    {
     "data": {
      "text/plain": [
       "False"
      ]
     },
     "execution_count": 35,
     "metadata": {},
     "output_type": "execute_result"
    }
   ],
   "source": [
    "c1 = Cuboid(5,4,3)\n",
    "c2 = Cuboid(1,2,3)\n",
    "c1 < c2"
   ]
  },
  {
   "cell_type": "markdown",
   "metadata": {},
   "source": [
    "And test the reverse:"
   ]
  },
  {
   "cell_type": "code",
   "execution_count": 36,
   "metadata": {},
   "outputs": [
    {
     "data": {
      "text/plain": [
       "True"
      ]
     },
     "execution_count": 36,
     "metadata": {},
     "output_type": "execute_result"
    }
   ],
   "source": [
    "c2 < c1"
   ]
  },
  {
   "cell_type": "markdown",
   "metadata": {},
   "source": [
    "### Class exercise\n",
    "Overload >= operator using \\_\\_ge\\_\\_ method."
   ]
  },
  {
   "cell_type": "code",
   "execution_count": 37,
   "metadata": {},
   "outputs": [],
   "source": [
    "class Cuboid(Rectangle):\n",
    "    \n",
    "    height = 0\n",
    "    \n",
    "    def __init__(self, w, l, h):\n",
    "        self.height = h\n",
    "        Rectangle.__init__(self, w, l)\n",
    "        \n",
    "    def volume(self):\n",
    "        return self.height * self.width * self.length\n",
    "    \n",
    "    def area(self):\n",
    "        return 2 * (super().area() + \n",
    "                    self.height * self.width + \n",
    "                    self.height * self.length)\n",
    "    \n",
    "    def __str__(self):\n",
    "        return 'Cuboid with width={}, length={}, and height={}'.format(self.height, self.width, self.length)\n",
    "    \n",
    "    def __lt__(self, c2):\n",
    "        return self.volume() < c2.volume()\n",
    "    \n",
    "    def __ge__(self,c2):\n",
    "        return self.volume() >= c2.volume()"
   ]
  },
  {
   "cell_type": "markdown",
   "metadata": {},
   "source": [
    "Then test it using the following code:"
   ]
  },
  {
   "cell_type": "code",
   "execution_count": 38,
   "metadata": {},
   "outputs": [
    {
     "name": "stdout",
     "output_type": "stream",
     "text": [
      "True\n",
      "False\n"
     ]
    }
   ],
   "source": [
    "c1 = Cuboid(5,4,3)\n",
    "c2 = Cuboid(1,2,3)\n",
    "print(c1 >= c2)\n",
    "print(c2 >= c1)"
   ]
  },
  {
   "cell_type": "markdown",
   "metadata": {},
   "source": [
    "In <a href='https://www.programiz.com/python-programming/operator-overloading' target=\"_blank\">this page</a> you can find the complete list of all operators that can be overloaded."
   ]
  },
  {
   "cell_type": "markdown",
   "metadata": {},
   "source": [
    "# The goodies"
   ]
  },
  {
   "cell_type": "markdown",
   "metadata": {},
   "source": [
    "## Conditional expressions\n",
    "Conditional statements are often used to choose one of two values; for example:"
   ]
  },
  {
   "cell_type": "code",
   "execution_count": 39,
   "metadata": {},
   "outputs": [
    {
     "name": "stdout",
     "output_type": "stream",
     "text": [
      "-1\n"
     ]
    }
   ],
   "source": [
    "x=-1\n",
    "if x > 0:\n",
    "    y = 1\n",
    "else:\n",
    "    y = -1\n",
    "print(y)"
   ]
  },
  {
   "cell_type": "markdown",
   "metadata": {},
   "source": [
    "We can write this statement more concisely using a conditional expression:"
   ]
  },
  {
   "cell_type": "code",
   "execution_count": 40,
   "metadata": {},
   "outputs": [
    {
     "name": "stdout",
     "output_type": "stream",
     "text": [
      "-1\n"
     ]
    }
   ],
   "source": [
    "y = 1 if x > 0 else -1\n",
    "print(y)"
   ]
  },
  {
   "cell_type": "markdown",
   "metadata": {},
   "source": [
    "## List comprehensions\n",
    "This function takes a list\n",
    "of strings, maps the string method capitalize to the elements, and returns a new list of\n",
    "strings:"
   ]
  },
  {
   "cell_type": "code",
   "execution_count": 41,
   "metadata": {},
   "outputs": [
    {
     "data": {
      "text/plain": [
       "['Hi', 'Hello', 'Apple']"
      ]
     },
     "execution_count": 41,
     "metadata": {},
     "output_type": "execute_result"
    }
   ],
   "source": [
    "def capitalize_all(t):\n",
    "    res = []\n",
    "    for s in t:\n",
    "        res.append(s.capitalize())\n",
    "    return res\n",
    "\n",
    "a = ['hi', 'hello', 'apple']\n",
    "capitalize_all(a)"
   ]
  },
  {
   "cell_type": "markdown",
   "metadata": {},
   "source": [
    "We can write this more concisely using a list comprehension:"
   ]
  },
  {
   "cell_type": "code",
   "execution_count": 42,
   "metadata": {},
   "outputs": [
    {
     "data": {
      "text/plain": [
       "['Hi', 'Hello', 'Apple']"
      ]
     },
     "execution_count": 42,
     "metadata": {},
     "output_type": "execute_result"
    }
   ],
   "source": [
    "def capitalize_all(t):\n",
    "    return [s.capitalize() for s in t]\n",
    "\n",
    "a = ['hi', 'hello', 'apple']\n",
    "capitalize_all(a)"
   ]
  },
  {
   "cell_type": "markdown",
   "metadata": {},
   "source": [
    "List comprehensions can also be used for filtering. For example, this function selects only\n",
    "the elements of t that are upper case, and returns a new list:"
   ]
  },
  {
   "cell_type": "code",
   "execution_count": 43,
   "metadata": {},
   "outputs": [
    {
     "data": {
      "text/plain": [
       "['A', 'C']"
      ]
     },
     "execution_count": 43,
     "metadata": {},
     "output_type": "execute_result"
    }
   ],
   "source": [
    "def only_upper(t):\n",
    "    res = []\n",
    "    for s in t:\n",
    "        if s.isupper():\n",
    "            res.append(s)\n",
    "    return res\n",
    "\n",
    "b = ['A', 'b', 'C', 'd']\n",
    "only_upper(b)"
   ]
  },
  {
   "cell_type": "markdown",
   "metadata": {},
   "source": [
    "We can rewrite it using a list comprehension"
   ]
  },
  {
   "cell_type": "code",
   "execution_count": 44,
   "metadata": {},
   "outputs": [
    {
     "data": {
      "text/plain": [
       "['A', 'C']"
      ]
     },
     "execution_count": 44,
     "metadata": {},
     "output_type": "execute_result"
    }
   ],
   "source": [
    "def only_upper(t):\n",
    "    return [s for s in t if s.isupper()]\n",
    "\n",
    "b = ['A', 'b', 'C', 'd']\n",
    "only_upper(b)"
   ]
  },
  {
   "cell_type": "markdown",
   "metadata": {},
   "source": [
    "## Sets\n",
    "A set is a group of values that ensures there are no duplicates."
   ]
  },
  {
   "cell_type": "code",
   "execution_count": 45,
   "metadata": {},
   "outputs": [
    {
     "data": {
      "text/plain": [
       "{'a', 'b', 'c'}"
      ]
     },
     "execution_count": 45,
     "metadata": {},
     "output_type": "execute_result"
    }
   ],
   "source": [
    "c = ['a', 'b', 'c', 'a', 'b']\n",
    "d = set(c)\n",
    "d"
   ]
  },
  {
   "cell_type": "markdown",
   "metadata": {},
   "source": [
    "You can use in keyword to check if a value is in a set."
   ]
  },
  {
   "cell_type": "code",
   "execution_count": 46,
   "metadata": {},
   "outputs": [
    {
     "data": {
      "text/plain": [
       "True"
      ]
     },
     "execution_count": 46,
     "metadata": {},
     "output_type": "execute_result"
    }
   ],
   "source": [
    "'a' in d"
   ]
  },
  {
   "cell_type": "markdown",
   "metadata": {},
   "source": [
    "The <= operator checks whether one set is a subset of another, including the possibility that\n",
    "they are equal, which is true if all the letters in word appear in available."
   ]
  },
  {
   "cell_type": "code",
   "execution_count": 47,
   "metadata": {},
   "outputs": [
    {
     "name": "stdout",
     "output_type": "stream",
     "text": [
      "False\n",
      "True\n"
     ]
    }
   ],
   "source": [
    "a = {'a', 'b', 'c', 'd'}\n",
    "b = {'a', 'b', 'c'}\n",
    "\n",
    "print(a <= b)\n",
    "print(b <= a)"
   ]
  },
  {
   "cell_type": "code",
   "execution_count": null,
   "metadata": {},
   "outputs": [],
   "source": []
  },
  {
   "cell_type": "code",
   "execution_count": null,
   "metadata": {},
   "outputs": [],
   "source": []
  }
 ],
 "metadata": {
  "kernelspec": {
   "display_name": "Python 3 (ipykernel)",
   "language": "python",
   "name": "python3"
  },
  "language_info": {
   "codemirror_mode": {
    "name": "ipython",
    "version": 3
   },
   "file_extension": ".py",
   "mimetype": "text/x-python",
   "name": "python",
   "nbconvert_exporter": "python",
   "pygments_lexer": "ipython3",
   "version": "3.9.12"
  }
 },
 "nbformat": 4,
 "nbformat_minor": 4
}
